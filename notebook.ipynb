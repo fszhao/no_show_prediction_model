{
 "metadata": {
  "language_info": {
   "codemirror_mode": {
    "name": "ipython",
    "version": 3
   },
   "file_extension": ".py",
   "mimetype": "text/x-python",
   "name": "python",
   "nbconvert_exporter": "python",
   "pygments_lexer": "ipython3",
   "version": "3.7.9"
  },
  "orig_nbformat": 2,
  "kernelspec": {
   "name": "python379jvsc74a57bd05002415c8fdf2a52704479dc8e1b2336fb9e4d27a9705da140b45d852e9a8f7b",
   "display_name": "Python 3.7.9 64-bit ('streamlit': conda)"
  }
 },
 "nbformat": 4,
 "nbformat_minor": 2,
 "cells": [
  {
   "cell_type": "code",
   "execution_count": 8,
   "metadata": {},
   "outputs": [],
   "source": [
    "import pandas as pd\n",
    "#from data import conn, sql\n",
    "\n",
    "\n",
    "data = pd.read_csv('C:/Users/ZhaoF/Documents/GitRepos/no_show_prediction_model-1/Test_Dataset.csv')\n",
    "\n",
    "\n",
    "#remove metadata\n",
    "df=data.drop(['VISIT_TYPE','CSN_ID','PAT_ID','ADDRESS_PAT','CITY','STATE','ZIP_PAT','CENTER','EPIC_ID','GL','APPT_STATUS_NAME'], axis=1)\n",
    "\n",
    "#remove Nulls\n",
    "df=df.dropna()\n"
   ]
  },
  {
   "cell_type": "code",
   "execution_count": null,
   "metadata": {},
   "outputs": [],
   "source": []
  }
 ]
}